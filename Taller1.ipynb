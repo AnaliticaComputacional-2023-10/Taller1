{
 "cells": [
  {
   "attachments": {},
   "cell_type": "markdown",
   "metadata": {},
   "source": [
    "# Taller 1\n",
    "\n",
    "<center>\n",
    "\n",
    "|     Nombres      |      Apellidos       |     Login     |  Codigo   |\n",
    "| :--------------: | :------------------: | :-----------: | :-------: |\n",
    "|     Santiago     | Gonzalez Montealegre | s.gonzalez35  | 202012274 |\n",
    "| Juliana Carolina |  Cardenas Barragan   | jc.cardenasb1 | 202011683 |\n",
    "\n",
    "</center>\n",
    "\n",
    "---"
   ]
  },
  {
   "attachments": {},
   "cell_type": "markdown",
   "metadata": {},
   "source": [
    "## El problema de Monty Hall\n",
    "\n",
    "En un programa concurso Ud puede ganar un carro. Para hacerlo debe seleccionar una de tres puertas.Detras de una de ellas esta el carro y si la selecciona se gana el carro.\n",
    "\n",
    "Tras su seleccion una de las puertas, el animador del programa abrirá otra de las puertas, detrás de la que hay una cabra. Recuerde que el animador sabe que hay detras de cada puerta.\n",
    "\n",
    "Tras abrir la otra puerta, el animador le da la posibilidad de cambiar de puerta, ¿Ud se cambia o no de puerta?\n",
    "\n",
    "---"
   ]
  },
  {
   "attachments": {},
   "cell_type": "markdown",
   "metadata": {},
   "source": [
    "### 1\n",
    "Para decidir si debe cambiar o no de puerta Ud ha decidido modelar este problema \n",
    "como una Red Bayesiana."
   ]
  },
  {
   "attachments": {},
   "cell_type": "markdown",
   "metadata": {},
   "source": [
    "### 2\n",
    "Defina tres variables aleatorias U, C y A, que representan la puerta seleccionada por Ud, la puerta detras de la cual esta el carro, y la puerta que selecciona el animador, respectivamente. Las tres variables tienen espacio de estados {1, 2, 3}."
   ]
  },
  {
   "attachments": {},
   "cell_type": "markdown",
   "metadata": {},
   "source": [
    "### 3\n",
    "\n",
    "Ud ha definido la siguiente red bayesiana para modelar este problema. En sureporte explique por que decide emplear esta red.\n",
    "\n",
    "<center>\n",
    "<img src=\"https://i.postimg.cc/Rhv56YK4/Punto1.png\" width=\"400\" height=\"350\" />\n",
    "<img src=\"https://i.postimg.cc/d3zq76sB/Punto2y3.png\" width=\"400\" height=\"350\" />\n",
    "</center>\n",
    "\n",
    "**Respuesta**\n",
    "\n",
    "La puerta que se eligió y la puerta en la que se encuentra el carro son procesos aleatorios entre las tres puertas. Mientras que la puerta que abre el anfitrión esta **condicionada** de la puerta que eligi inicialmente; no puede ser la misma puerta que eligi, y a su vez de la puerta en la que esta ubicada el carro; el anfitrion tiene que abrir una puerta donde detras hay una cabra. Es por esto que se representa la red bayesiana por medio de 2 nodos padres, y un nodo decendiente.\n",
    "\n",
    "---"
   ]
  },
  {
   "attachments": {},
   "cell_type": "markdown",
   "metadata": {},
   "source": [
    "### 4\n",
    "Responda las siguientes preguntas en su reporte:\n",
    "\n",
    "1. ¿Tiene esta red estructuras en V? Si las tiene, ¿Que implicaciones tienen en la influencia entre las variables de la red?\n",
    "\n",
    "    **R/**\n",
    "    \n",
    "    Esta red **si tiene estructuras en V**. Esta estrucutra esta compuesta por 2 nodos causas; nodos padres, y su efecto comun; nodo descendiente. Aunque los nodos padres en un principio eran marginalmente independientes se vuelven condicionalmente dependientes dada la evidencia de sus hijos. \n",
    "\n",
    "1. ¿Que tipo de analisis considera es mas relevante en este caso? ¿Causal, evidencial, intercausal? ¿Por que?\n",
    "\n",
    "    **R/**\n",
    "    \n",
    "    \n",
    "    En este caso queremos saber si cambio la puerta que seleccione al inicio o no; es decir, queremos saber cual es la puerta que tiene mas probabilidades de que el carro se encuentre detras. Para poder realizar este analisis es necesario contar con un nodo causa y su efecto; la puerta que he seleccionado y la puerta que el anfitrion ha descubierto con la cabra, teniendo estos valores se logra identificar las probabilidades de que el premio se encuentre en cada una de las puertas restantes. Por tal motivo se esta tratando de un **razonamiento intercausal**.\n",
    "\n",
    "1. ¿Que independencias condicionales captura esta red?\n",
    "\n",
    "    **R/**\n",
    "    \n",
    "    Esta red **no** presenta independecias condicionales, solo independencias marginales.\n",
    "\n",
    "---"
   ]
  },
  {
   "attachments": {},
   "cell_type": "markdown",
   "metadata": {},
   "source": [
    "5. El carro ha sido ubicado al azar detras de alguna de las puertas, y Ud selecciona una puerta al azar inicialmente. Modele este comportamiento con las distribuciones de probabilidad P(U) y P(C). \n",
    "\n",
    "    a. **La puerta que elegi**: \n",
    "    Las tres puertas tienen la misma probabilidad de ser elegidas\n",
    "\n",
    "    <center>\n",
    "\n",
    "    | P(U) | U | \n",
    "    | :-: | :-: | \n",
    "    | 1 | 1/3 |\n",
    "    | 2 | 1/3 |\n",
    "    | 3 | 1/3 |\n",
    "\n",
    "    </center>\n",
    "\n",
    "    b. **La puerta en la que se encuentra detras el carro**:\n",
    "    El premio puede estar ubicado en cualquiera de las tres puertas\n",
    "\n",
    "    <center>\n",
    "\n",
    "    | P(C) | C | \n",
    "    | :-: | :-: | \n",
    "    | 1 | 1/3 |\n",
    "    | 2 | 1/3 |\n",
    "    | 3 | 1/3 |\n",
    "\n",
    "    </center>"
   ]
  },
  {
   "attachments": {},
   "cell_type": "markdown",
   "metadata": {},
   "source": [
    "6. EL comportamiento del Animador (la puerta que decide mostrar) depende tanto de su seleccion como de la puerta donde se encuentra el carro. Modele el comportamiento del Animador con la distribucion condicional de probabilidad P(A|C,U) (note que esta representacion es estocastica por columnas)\n",
    "\n",
    "    <center>\n",
    "\n",
    "    | P(A/C,U) | C | Puerta 1 | Puerta 1 | Puerta 1 | Puerta 2 | Puerta 2 | Puerta 2 | Puerta 3 | Puerta 3 | Puerta 3 |\n",
    "    | :-: | :-: | :-: | :-: | :-: | :-: | :-: | :-: | :-: | :-: | :-: |\n",
    "    | A | U | Puerta 1 | Puerta 2 | Puerta 3 | Puerta 1 | Puerta 2 | Puerta 3 | Puerta 1 | Puerta 2 | Puerta 3 |\n",
    "    | 1 | | 0 | 0 | 0 | 0 | 0.5 | 1 | 0 | 1 | 0.5 |\n",
    "    | 2 | | 0.5 | 0 | 1 | 0 | 0 | 0 | 1 | 0 | 0.5 |\n",
    "    | 3 | | 0.5 | 1 | 0 | 1 | 0.5 | 0 | 0 | 0 | 0 |\n",
    "\n",
    "    </center>"
   ]
  },
  {
   "cell_type": "code",
   "execution_count": 43,
   "metadata": {},
   "outputs": [],
   "source": [
    "import pgmpy\n",
    "\n",
    "#En su editor de python cree un nuevo archivo monty.py e \n",
    "#incluya los objetos BayesianNetwork y TabularCPD\n",
    "\n",
    "from pgmpy.models import BayesianNetwork\n",
    "from pgmpy.factors.discrete import TabularCPD\n",
    "\n",
    "#Defina ahora la estructura de la red incluyendo los arcos y nodos\n",
    "\n",
    "model = BayesianNetwork([(\"C\",\"A\"),(\"U\",\"A\")])\n",
    "\n",
    "#Defina las CPDs de C y U\n",
    "\n",
    "cpd_c = TabularCPD(variable=\"C\", variable_card=3, values=[[0.33], [0.33], [0.33]])\n",
    "cpd_u = TabularCPD(variable=\"U\", variable_card=3, values=[[0.33], [0.33], [0.33]])\n",
    "\n",
    "#Defina la CPD de A\n",
    "\n",
    "cpd_a = TabularCPD(\n",
    "    variable=\"A\",\n",
    "    variable_card=3,\n",
    "    values=[\n",
    "        [0, 0, 0, 0, 0.5, 1, 0, 1, 0.5],\n",
    "        [0.5, 0, 1, 0, 0, 0, 1, 0, 0.5],\n",
    "        [0.5, 1, 0, 1, 0.5, 0, 0, 0, 0],\n",
    "    ],\n",
    "    evidence=[\"C\", \"U\"],\n",
    "    evidence_card=[3, 3],\n",
    ")"
   ]
  },
  {
   "attachments": {},
   "cell_type": "markdown",
   "metadata": {},
   "source": [
    "11. En la documentacion de pgmpy podra encontrar los detalles de la clase TabularCPD, ver https://pgmpy.org/factors/discrete.html. En su reporte justifique el valor de los argumentos usados al crear los tres objetos de la clase TabularCPD.\n",
    "\n",
    "    **Explicación variable cpd_c y cpd_u:**\n",
    "\n",
    "    1. El primer parametro hace referenfia al nombre del objeto cuya distribución de probabilidad condicional vamos a definir; \"C\" y \"U\".\n",
    "\n",
    "    2. El segundo parametro hace referencia al numero de espacio de estados de la variable; en ambos casos se tienen 3 variables de estado: {Puerta 1, Puerta 2, Puerta 3}. \n",
    "    \n",
    "    3. El tercer parametro hace referencia a los valores de la tabla de probabilidad condicional del objeto que vamos a definir; en este caso ambos objetos tienen la misma probabilidad de elegir cualquier puerta [0.33, 0.33, 0.33]\n",
    "\n",
    "    **Explicación variable cpd_a:**\n",
    "\n",
    "    1. El primer parametro hace referenfia al nombre del objeto cuya distribución de probabilidad condicional vamos a definir; \"A\".\n",
    "\n",
    "    2. El segundo parametro hace referencia al numero de espacio de estados de la variable; al igual que en los dos casos anteriores se tienen 3 variables de estado: {Puerta 1, Puerta 2, Puerta 3}. \n",
    "    \n",
    "    3. El tercer parametro hace referencia a los valores de la tabla de probabilidad condicional del objeto que vamos a definir; en este caso se hace referencia a una lista.\n",
    "\n",
    "    4. El cuarto paremetro hace referencia a las variables CPD que ya han sido definidas y son causales del objeto que vamos a definir.\n",
    "\n",
    "    5. El quinto parametro hace referencia al numero de espacio de estados que tienen las variables causales del objeto que vamos a definir."
   ]
  },
  {
   "cell_type": "code",
   "execution_count": 44,
   "metadata": {},
   "outputs": [
    {
     "name": "stdout",
     "output_type": "stream",
     "text": [
      "+------+----------+\n",
      "| C    |   phi(C) |\n",
      "+======+==========+\n",
      "| C(0) |   0.3333 |\n",
      "+------+----------+\n",
      "| C(1) |   0.6667 |\n",
      "+------+----------+\n",
      "| C(2) |   0.0000 |\n",
      "+------+----------+\n"
     ]
    }
   ],
   "source": [
    "#Asocie las 3 CPDs a su modelo\n",
    "\n",
    "model.add_cpds(cpd_c, cpd_u, cpd_a)\n",
    "\n",
    "#Revise que su modelo est ́e completo\n",
    "\n",
    "model.check_model()\n",
    "\n",
    "#Importe la clase VariableElimination del paquete de inferencia y cree un objeto de\n",
    "#esta clase\n",
    "\n",
    "from pgmpy.inference import VariableElimination\n",
    "\n",
    "infer = VariableElimination(model)\n",
    "\n",
    "# Suponga que Ud selecciona la puerta 1 y el animador la puerta 3. ¿Cual es la probabilidad \n",
    "# de que el carro este detras de cada una de las puertas?\n",
    "\n",
    "posterior_p =infer.query([\"C\"], evidence = {\"U\": 0, \"A\": 2})\n",
    "print(posterior_p)"
   ]
  },
  {
   "attachments": {},
   "cell_type": "markdown",
   "metadata": {},
   "source": [
    "16. Explique el anterior comando a partir de la documentacion del la librerıa https:// pgmpy.org/exact_infer/ve.html#pgmpy.inference.ExactInference.VariableElimination. query.\n",
    "\n",
    "    **query([\"C\"], evidence = {\"U\": 0, \"A\": 2})**\n",
    "\n",
    "    1. La primera variable : \"C\", hace referencia a la variable a la cual queremos calcular la probabilidad\n",
    "\n",
    "    2. La segunda variable; {\"U\": 0, \"A\": 2}, hace referencia a un diccionario con pares de valores que contiene las variables y su respectivo espacio de estados que se quiere usar como evidecia para calcular la probabilidad. "
   ]
  },
  {
   "attachments": {},
   "cell_type": "markdown",
   "metadata": {},
   "source": [
    "17. Interprete los resultados. ¿Es mejor cambiarse de puerta o no?\n",
    "\n",
    "    Por medio de los resultados podemos asegurar que **es mejor cambiarse de puerta**, ya que de esta manera la probabilidad que tengo de ganar el carro aumenta de 33,33% a 66,67%."
   ]
  },
  {
   "attachments": {},
   "cell_type": "markdown",
   "metadata": {},
   "source": [
    "18. Modifique la evidencia para considerar otros casos de seleccion de puertas, tanto la que Ud selecciona como la que el Animador abre. ¿Como interpreta estos resultados?"
   ]
  },
  {
   "cell_type": "code",
   "execution_count": 45,
   "metadata": {},
   "outputs": [
    {
     "name": "stdout",
     "output_type": "stream",
     "text": [
      "A = 1 U = 0\n",
      "+------+----------+\n",
      "| C    |   phi(C) |\n",
      "+======+==========+\n",
      "| C(0) |   0.3333 |\n",
      "+------+----------+\n",
      "| C(1) |   0.0000 |\n",
      "+------+----------+\n",
      "| C(2) |   0.6667 |\n",
      "+------+----------+\n",
      "A = 2 U = 0\n",
      "+------+----------+\n",
      "| C    |   phi(C) |\n",
      "+======+==========+\n",
      "| C(0) |   0.3333 |\n",
      "+------+----------+\n",
      "| C(1) |   0.6667 |\n",
      "+------+----------+\n",
      "| C(2) |   0.0000 |\n",
      "+------+----------+\n",
      "A = 0 U = 1\n",
      "+------+----------+\n",
      "| C    |   phi(C) |\n",
      "+======+==========+\n",
      "| C(0) |   0.0000 |\n",
      "+------+----------+\n",
      "| C(1) |   0.3333 |\n",
      "+------+----------+\n",
      "| C(2) |   0.6667 |\n",
      "+------+----------+\n",
      "A = 2 U = 1\n",
      "+------+----------+\n",
      "| C    |   phi(C) |\n",
      "+======+==========+\n",
      "| C(0) |   0.6667 |\n",
      "+------+----------+\n",
      "| C(1) |   0.3333 |\n",
      "+------+----------+\n",
      "| C(2) |   0.0000 |\n",
      "+------+----------+\n",
      "A = 0 U = 2\n",
      "+------+----------+\n",
      "| C    |   phi(C) |\n",
      "+======+==========+\n",
      "| C(0) |   0.0000 |\n",
      "+------+----------+\n",
      "| C(1) |   0.6667 |\n",
      "+------+----------+\n",
      "| C(2) |   0.3333 |\n",
      "+------+----------+\n",
      "A = 1 U = 2\n",
      "+------+----------+\n",
      "| C    |   phi(C) |\n",
      "+======+==========+\n",
      "| C(0) |   0.6667 |\n",
      "+------+----------+\n",
      "| C(1) |   0.0000 |\n",
      "+------+----------+\n",
      "| C(2) |   0.3333 |\n",
      "+------+----------+\n"
     ]
    }
   ],
   "source": [
    "for i in range(0,3):\n",
    "    for j in range(0,3):\n",
    "        if i != j:\n",
    "            prob = infer.query([\"C\"],evidence={\"U\": i,\"A\": j})\n",
    "            print(\"A = \"+str(j)+\" \"+\"U = \"+str(i))\n",
    "            print(prob)"
   ]
  },
  {
   "attachments": {},
   "cell_type": "markdown",
   "metadata": {},
   "source": [
    "Podemos observar que en todos los casos que:\n",
    "\n",
    "1. **SIEMPRE** va a ser preferible cambiar la puerta que inicialmente escogi; dado que esta tiene una mayor probabilidad de que atras se encuentre el carro dado que la su probabilidad cambia de 33.33% a 66.67%. \n",
    "\n",
    "2. La probabilidad de que el premio se encuentre en la puerta que el animador (\"A\") selecciono **SIEMPRE** es 0."
   ]
  },
  {
   "attachments": {},
   "cell_type": "markdown",
   "metadata": {},
   "source": [
    "19. Compare ahora con el caso en que solo tiene como evidencia la puerta que Ud selecciono."
   ]
  },
  {
   "cell_type": "code",
   "execution_count": 46,
   "metadata": {},
   "outputs": [
    {
     "name": "stdout",
     "output_type": "stream",
     "text": [
      "U = 0\n",
      "+------+----------+\n",
      "| C    |   phi(C) |\n",
      "+======+==========+\n",
      "| C(0) |   0.3333 |\n",
      "+------+----------+\n",
      "| C(1) |   0.3333 |\n",
      "+------+----------+\n",
      "| C(2) |   0.3333 |\n",
      "+------+----------+\n",
      "U = 1\n",
      "+------+----------+\n",
      "| C    |   phi(C) |\n",
      "+======+==========+\n",
      "| C(0) |   0.3333 |\n",
      "+------+----------+\n",
      "| C(1) |   0.3333 |\n",
      "+------+----------+\n",
      "| C(2) |   0.3333 |\n",
      "+------+----------+\n",
      "U = 2\n",
      "+------+----------+\n",
      "| C    |   phi(C) |\n",
      "+======+==========+\n",
      "| C(0) |   0.3333 |\n",
      "+------+----------+\n",
      "| C(1) |   0.3333 |\n",
      "+------+----------+\n",
      "| C(2) |   0.3333 |\n",
      "+------+----------+\n"
     ]
    }
   ],
   "source": [
    "for i in range(0,3):\n",
    "    prob_2 = infer.query([\"C\"],evidence={\"U\": i})\n",
    "    print(\"U = \"+str(i))\n",
    "    print(prob_2)"
   ]
  },
  {
   "attachments": {},
   "cell_type": "markdown",
   "metadata": {},
   "source": [
    "Tener la información de la puerta que yo escogi no es evidencia suficiente para concluir o determinar si detras de una puerta se encuentra una cabra o un coche, por tal motivo todas las puertas tienen la misma probabilidad de que el premio se encuentre detras de esta."
   ]
  },
  {
   "attachments": {},
   "cell_type": "markdown",
   "metadata": {},
   "source": [
    "20. Compare ahora con el caso en que solo tiene como evidencia la puerta que abre el Animador"
   ]
  },
  {
   "cell_type": "code",
   "execution_count": 47,
   "metadata": {},
   "outputs": [
    {
     "name": "stdout",
     "output_type": "stream",
     "text": [
      "A = 0\n",
      "+------+----------+\n",
      "| C    |   phi(C) |\n",
      "+======+==========+\n",
      "| C(0) |   0.0000 |\n",
      "+------+----------+\n",
      "| C(1) |   0.5000 |\n",
      "+------+----------+\n",
      "| C(2) |   0.5000 |\n",
      "+------+----------+\n",
      "A = 1\n",
      "+------+----------+\n",
      "| C    |   phi(C) |\n",
      "+======+==========+\n",
      "| C(0) |   0.5000 |\n",
      "+------+----------+\n",
      "| C(1) |   0.0000 |\n",
      "+------+----------+\n",
      "| C(2) |   0.5000 |\n",
      "+------+----------+\n",
      "A = 2\n",
      "+------+----------+\n",
      "| C    |   phi(C) |\n",
      "+======+==========+\n",
      "| C(0) |   0.5000 |\n",
      "+------+----------+\n",
      "| C(1) |   0.5000 |\n",
      "+------+----------+\n",
      "| C(2) |   0.0000 |\n",
      "+------+----------+\n"
     ]
    }
   ],
   "source": [
    "for i in range(0,3):\n",
    "    prob_3 = infer.query([\"C\"],evidence={\"A\": i})\n",
    "    print(\"A = \"+str(i))\n",
    "    print(prob_3)"
   ]
  },
  {
   "attachments": {},
   "cell_type": "markdown",
   "metadata": {},
   "source": [
    "En el caso en el que solo se conozca la puerta que selecciono el animador nos quedan 2 posibles opciones, una puerta que detras tienen una cabra o una puerta que detras tiene el carro. Como no se tiene la informacion de la puerta que he seleccionado, simplemente se puede decir que se reducen las opciones de puertas que puedo escoger a 2 y ambas tienen la misma posibilidad de que al abrirla se encuentre el carro; 50%."
   ]
  },
  {
   "attachments": {},
   "cell_type": "markdown",
   "metadata": {},
   "source": [
    "21. Concluya.\n",
    "\n",
    "Luego de modelar el problema de Monty Hall por medio de una Red Bayesiana se logro concluir que teniendo la informacion de la puerta que seleccione inicialmente y la puerta que abre el anfitrion, **es preferible cambiar de puerta** ya que la otra puerta tendra el doble de probabilidad de que el carro se encuentre detras."
   ]
  },
  {
   "attachments": {},
   "cell_type": "markdown",
   "metadata": {},
   "source": [
    "# El problema de la alarma antirrobo"
   ]
  },
  {
   "attachments": {},
   "cell_type": "markdown",
   "metadata": {},
   "source": [
    "Ud ha instalado una alarma antirrobo. La alarma es buena detectando intrusos pero tambien se activa con movimientos sısmicos. Ud tiene ademas buena relacion con dos vecinos, Juan y Marıa, quienes lo llaman en caso de que escuchen la alarma. Juan suele llamar al escuchar la alarma, pero tambien se confunde con otros ruidos y llama cuando la alarma no ha sonado. Marıa a veces no escucha la alarma. Su evidencia consiste en si Juan y/o Marıa lo llaman, y basado en esto Ud quiere estimar la probabilidad de que haya habido un robo."
   ]
  },
  {
   "attachments": {},
   "cell_type": "markdown",
   "metadata": {},
   "source": [
    "1. Para estimar la probabilidad de robo Ud ha decidido modelar este problema como una Red Bayesiana."
   ]
  },
  {
   "cell_type": "code",
   "execution_count": 48,
   "metadata": {},
   "outputs": [
    {
     "data": {
      "image/png": "[encoded data removed]",
      "text/plain": [
       "<IPython.core.display.Image object>"
      ]
     },
     "execution_count": 48,
     "metadata": {},
     "output_type": "execute_result"
    }
   ],
   "source": [
    "Image(\"Punto3.png\")"
   ]
  },
  {
   "attachments": {},
   "cell_type": "markdown",
   "metadata": {},
   "source": [
    "2. Defina cinco variables aleatorias R, S, A, J y M que representan el robo, el sismo, la alarma, la llamada de Juan y la de Mar ́ıa, respectivamente. Todas las variables tienen espacio de estados {V, F } (verdadero y falso)."
   ]
  },
  {
   "cell_type": "code",
   "execution_count": 49,
   "metadata": {},
   "outputs": [
    {
     "data": {
      "image/png": "[encoded data removed]",
      "text/plain": [
       "<IPython.core.display.Image object>"
      ]
     },
     "execution_count": 49,
     "metadata": {},
     "output_type": "execute_result"
    }
   ],
   "source": [
    "Image(\"Punto4y5.png\")"
   ]
  },
  {
   "attachments": {},
   "cell_type": "markdown",
   "metadata": {},
   "source": [
    "3. Ud ha definido la siguiente red bayesiana para modelar este problema.En su reporte explique por que decide emplear esta red.\n",
    "\n",
    "    La ocurrencia que de un intruso entre a la casa o de que se presente un sismo son procesos aleatorios, pero estos son la causa de que se active la alarma. Por otro lado, que llame Juan o Maria se debe a si escuchan que la alarma se activa o no."
   ]
  },
  {
   "attachments": {},
   "cell_type": "markdown",
   "metadata": {},
   "source": [
    "4. Responda las siguientes preguntas en su reporte:\n",
    "\n",
    "    a) ¿Tiene esta red estructuras en V? Si las tiene, ¿Que implicaciones tienen en la influencia entre las variables de la red?\n",
    "\n",
    "    Esta red **si tiene estructuras en V**. Esta estrucutra esta compuesta por 2 nodos causas; nodos padres, y su efecto comun; nodo descendiente. Robo y Sismo son los nodos exploicativos para que la alarma se active o no.\n",
    "\n",
    "    b) ¿Que tipo de analisis considera es mas relevante en este caso? ¿Causal, evidencial, intercausal? ¿Por que?\n",
    "    \n",
    "    En este caso queremos saber cual es la probabilidad de que Juan o Maria me llamen dado que se produjo un robo; a partir de los resultados se quiere llegar a las causas. Por tal motivo se esta tratando de un **razonamiento evidencial, explicativo o diagnostico**.\n",
    "\n",
    "    c) ¿Que independencias condicionales captura esta red?\n",
    "\n",
    "    Esta red **si** presenta independencias condicionales, se puede observar en el caso de que Juan o Maria llamen dado que sono la alarma. Tener información de que Juan llama no nos da mas información sobre si Maria llama, y viceversa. Este tipo de independencias nos permite factorizar la distribución conjunta."
   ]
  },
  {
   "attachments": {},
   "cell_type": "markdown",
   "metadata": {},
   "source": [
    "5. La probabilidad de un robo se ha estimado en 0.01, mientras la de un sismo en 0.02. Modele este comportamiento con las distribuciones de probabilidad P(R) y P(S).\n",
    "\n",
    "    a. **Robo**: \n",
    "\n",
    "    <center>\n",
    "\n",
    "    | P(R) | R |\n",
    "    | :-: | :-: | \n",
    "    | V | 0.99 | \n",
    "    | F | 0.01 | \n",
    "\n",
    "    </center>\n",
    "\n",
    "    b. **Sismo**: \n",
    "\n",
    "    <center>\n",
    "\n",
    "    | P(S) | S |\n",
    "    | :-: | :-: | \n",
    "    | V | 0.98 | \n",
    "    | F | 0.02 | \n",
    "\n",
    "    </center>"
   ]
  },
  {
   "attachments": {},
   "cell_type": "markdown",
   "metadata": {},
   "source": [
    "6. La alarma responde a un robo o a un sismo de acuerdo con la siguiente CPD:\n",
    "\n",
    "    <center>\n",
    "\n",
    "    |  | R | V | V | F | F |\n",
    "    | :-: | :-: | :-: | :-: | :-: | :-: |\n",
    "    | A | S | V | F | V | F |\n",
    "    | V | | 0.95 | 0.94 | 0.29 | 0.001 | \n",
    "    | F | | 0.05 | 0.06 | 0.71 | 0.999 | \n",
    "\n",
    "    </center>\n",
    "\n",
    "    Interprete estas probabilidades en su reporte.\n",
    "\n",
    "    A partir de estas probabilidades se puede concluir que:\n",
    "\n",
    "    "
   ]
  },
  {
   "attachments": {},
   "cell_type": "markdown",
   "metadata": {},
   "source": [
    "7. Si suena la alarma, Juan llama 9 de cada 10 veces, mientras Marıa llama 7 de cada 10 veces. Si la alarma NO suena, Juan llama 1 de cada 20 veces, mientras Mar ́ıa llama 1 de cada 100 veces. Modele este comportamiento con las distribuciones de probabilidad P(J|A) y P(M|A).\n",
    "\n",
    "    a. **Juan**:\n",
    "\n",
    "    <center>\n",
    "\n",
    "    | P(J/A) | A | A |\n",
    "    | :-: | :-: | :-: |\n",
    "    | J | V | F |\n",
    "    | V | 0.9 | 0.05 |\n",
    "    | F | 0.1 | 0.95 |\n",
    "\n",
    "    </center>\n",
    "\n",
    "    a. **Maria**:\n",
    "\n",
    "    <center>\n",
    "\n",
    "    | P(M/A) | A | A |\n",
    "    | :-: | :-: | :-: |\n",
    "    | M | V | F |    \n",
    "    | V | 0.7 | 0.01 |  \n",
    "    | F | 0.3 | 0.99 |  \n",
    "\n",
    "    </center>\n"
   ]
  },
  {
   "cell_type": "code",
   "execution_count": 50,
   "metadata": {},
   "outputs": [
    {
     "name": "stdout",
     "output_type": "stream",
     "text": [
      "(R ⟂ S)\n",
      "(R ⟂ M, J | Al)\n",
      "(R ⟂ M, J | Al, S)\n",
      "(R ⟂ J | Al, M)\n",
      "(R ⟂ M | Al, J)\n",
      "(R ⟂ J | Al, M, S)\n",
      "(R ⟂ M | Al, S, J)\n",
      "(M ⟂ R, S, J | Al)\n",
      "(M ⟂ S, J | Al, R)\n",
      "(M ⟂ R, J | Al, S)\n",
      "(M ⟂ R, S | Al, J)\n",
      "(M ⟂ J | Al, R, S)\n",
      "(M ⟂ S | Al, R, J)\n",
      "(M ⟂ R | Al, S, J)\n",
      "(S ⟂ R)\n",
      "(S ⟂ M, J | Al)\n",
      "(S ⟂ M, J | Al, R)\n",
      "(S ⟂ J | Al, M)\n",
      "(S ⟂ M | Al, J)\n",
      "(S ⟂ J | Al, R, M)\n",
      "(S ⟂ M | Al, R, J)\n",
      "(J ⟂ R, S, M | Al)\n",
      "(J ⟂ S, M | Al, R)\n",
      "(J ⟂ R, M | Al, S)\n",
      "(J ⟂ R, S | Al, M)\n",
      "(J ⟂ M | Al, R, S)\n",
      "(J ⟂ S | Al, R, M)\n",
      "(J ⟂ R | Al, M, S)\n"
     ]
    }
   ],
   "source": [
    "import pgmpy\n",
    "\n",
    "#En su editor de python cree un nuevo archivo alarma.py e implemente el modelo creado \n",
    "# para el problema de la alarma antirrobo. Utilice las clases BayesianNetwork, TabularCPD \n",
    "# y VariableElimination de pgmpy.\n",
    "\n",
    "from pgmpy.models import BayesianNetwork\n",
    "from pgmpy.factors.discrete import TabularCPD\n",
    "\n",
    "#Defina ahora la estructura de la red incluyendo los arcos y nodos\n",
    "\n",
    "model_2 = BayesianNetwork([(\"R\",\"Al\"),(\"S\",\"Al\"),(\"Al\",\"J\"),(\"Al\",\"M\")])\n",
    "\n",
    "#Defina las CPDs de R y S\n",
    "\n",
    "cpd_r = TabularCPD(variable=\"R\", variable_card=2, values=[[0.01], [0.99]])\n",
    "cpd_s = TabularCPD(variable=\"S\", variable_card=2, values=[[0.02], [0.98]])\n",
    "\n",
    "#Defina la CPD de A\n",
    "\n",
    "cpd_al = TabularCPD(\n",
    "    variable=\"Al\",\n",
    "    variable_card=2,\n",
    "    values=[\n",
    "        [0.95, 0.94, 0.29, 0.001],\n",
    "        [0.05, 0.06, 0.71, 0.999],\n",
    "    ],\n",
    "    evidence=[\"R\", \"S\"],\n",
    "    evidence_card=[2, 2],\n",
    ")\n",
    "\n",
    "#Defina la CPD de J\n",
    "\n",
    "cpd_j = TabularCPD(\n",
    "    variable=\"J\",\n",
    "    variable_card=2,\n",
    "    values=[\n",
    "        [0.9, 0.05],\n",
    "        [0.1, 0.95],\n",
    "    ],\n",
    "    evidence=[\"Al\"],\n",
    "    evidence_card=[2],\n",
    ")\n",
    "\n",
    "#Defina la CPD de M\n",
    "\n",
    "cpd_m = TabularCPD(\n",
    "    variable=\"M\",\n",
    "    variable_card=2,\n",
    "    values=[\n",
    "        [0.7, 0.01],\n",
    "        [0.3, 0.99],\n",
    "    ],\n",
    "    evidence=[\"Al\"],\n",
    "    evidence_card=[2],\n",
    ")\n",
    "\n",
    "#Asocie las 5 CPDs a su modelo\n",
    "\n",
    "model_2.add_cpds(cpd_r, cpd_s, cpd_al, cpd_j, cpd_m)\n",
    "\n",
    "#Revise que su modelo est ́e completo\n",
    "\n",
    "model_2.check_model()\n",
    "\n",
    "print(model_2.get_independencies())\n"
   ]
  },
  {
   "attachments": {},
   "cell_type": "markdown",
   "metadata": {},
   "source": [
    "10. Considere 4 casos de evidencia: recibe llamadas tanto de Juan como de Mar ́ıa, recibe la llamada de uno solo de ellos, o ninguno lo llama. Calcule la probabilidad de que haya ocurrido un robo en cada caso. Incluya sus resultados y ana ́lisis en su reporte.\n"
   ]
  },
  {
   "cell_type": "code",
   "execution_count": 51,
   "metadata": {},
   "outputs": [
    {
     "name": "stdout",
     "output_type": "stream",
     "text": [
      "J = 0 M = 0\n",
      "+------+----------+\n",
      "| R    |   phi(R) |\n",
      "+======+==========+\n",
      "| R(0) |   0.5565 |\n",
      "+------+----------+\n",
      "| R(1) |   0.4435 |\n",
      "+------+----------+\n",
      "J = 1 M = 0\n",
      "+------+----------+\n",
      "| R    |   phi(R) |\n",
      "+======+==========+\n",
      "| R(0) |   0.0484 |\n",
      "+------+----------+\n",
      "| R(1) |   0.9516 |\n",
      "+------+----------+\n",
      "J = 0 M = 1\n",
      "+------+----------+\n",
      "| R    |   phi(R) |\n",
      "+======+==========+\n",
      "| R(0) |   0.0634 |\n",
      "+------+----------+\n",
      "| R(1) |   0.9366 |\n",
      "+------+----------+\n",
      "J = 1 M = 1\n",
      "+------+----------+\n",
      "| R    |   phi(R) |\n",
      "+======+==========+\n",
      "| R(0) |   0.0009 |\n",
      "+------+----------+\n",
      "| R(1) |   0.9991 |\n",
      "+------+----------+\n"
     ]
    }
   ],
   "source": [
    "\n",
    "#Importe la clase VariableElimination del paquete de inferencia y cree un objeto de\n",
    "#esta clase\n",
    "\n",
    "from pgmpy.inference import VariableElimination\n",
    "\n",
    "infer_2 = VariableElimination(model_2)\n",
    "\n",
    "for i in range(0,2):\n",
    "    for j in range(0,2):\n",
    "        prob_4 = infer_2.query([\"R\"],evidence={\"J\": i, \"M\": j})\n",
    "        print(\"J = \"+str(j)+\" \"+\"M = \"+str(i))\n",
    "        print(prob_4)\n"
   ]
  },
  {
   "attachments": {},
   "cell_type": "markdown",
   "metadata": {},
   "source": [
    "A partir de estos analisis se puede concluir que:\n",
    "\n",
    "1. La probabilidad de que "
   ]
  },
  {
   "attachments": {},
   "cell_type": "markdown",
   "metadata": {},
   "source": [
    "11. Suponga ahora que, cuando NO se activa la alarma, Juan lo llama con la misma probabilidad de Marıa, es decir, 1 de cada 100 veces. Recalcule sus probabilidades y analice los cambios en su reporte."
   ]
  },
  {
   "cell_type": "code",
   "execution_count": 56,
   "metadata": {},
   "outputs": [
    {
     "name": "stdout",
     "output_type": "stream",
     "text": [
      "J = 0 M = 0\n",
      "+------+----------+\n",
      "| R    |   phi(R) |\n",
      "+======+==========+\n",
      "| R(0) |   0.5779 |\n",
      "+------+----------+\n",
      "| R(1) |   0.4221 |\n",
      "+------+----------+\n",
      "J = 1 M = 0\n",
      "+------+----------+\n",
      "| R    |   phi(R) |\n",
      "+======+==========+\n",
      "| R(0) |   0.1806 |\n",
      "+------+----------+\n",
      "| R(1) |   0.8194 |\n",
      "+------+----------+\n",
      "J = 0 M = 1\n",
      "+------+----------+\n",
      "| R    |   phi(R) |\n",
      "+======+==========+\n",
      "| R(0) |   0.0611 |\n",
      "+------+----------+\n",
      "| R(1) |   0.9389 |\n",
      "+------+----------+\n",
      "J = 1 M = 1\n",
      "+------+----------+\n",
      "| R    |   phi(R) |\n",
      "+======+==========+\n",
      "| R(0) |   0.0009 |\n",
      "+------+----------+\n",
      "| R(1) |   0.9991 |\n",
      "+------+----------+\n"
     ]
    }
   ],
   "source": [
    "#Defina ahora la estructura de la red incluyendo los arcos y nodos\n",
    "\n",
    "model_3 = BayesianNetwork([(\"R\",\"Al\"),(\"S\",\"Al\"),(\"Al\",\"Ju\"),(\"Al\",\"M\")])\n",
    "\n",
    "#Se redefine la CPD de J\n",
    "\n",
    "cpd_j2 = TabularCPD(\n",
    "    variable=\"Ju\",\n",
    "    variable_card=2,\n",
    "    values=[\n",
    "        [0.9, 0.01],\n",
    "        [0.1, 0.99],\n",
    "    ],\n",
    "    evidence=[\"Al\"],\n",
    "    evidence_card=[2],\n",
    ")\n",
    "\n",
    "#Asocie las 5 CPDs a su modelo\n",
    "\n",
    "model_3.add_cpds(cpd_r, cpd_s, cpd_al, cpd_j2, cpd_m)\n",
    "\n",
    "#Revise que su modelo est ́e completo\n",
    "\n",
    "model_3.check_model()\n",
    "\n",
    "#Importe la clase VariableElimination del paquete de inferencia y cree un objeto de\n",
    "#esta clase\n",
    "\n",
    "from pgmpy.inference import VariableElimination\n",
    "\n",
    "infer_3 = VariableElimination(model_3)\n",
    "\n",
    "for i in range(0,2):\n",
    "    for j in range(0,2):\n",
    "        prob_5 = infer_3.query([\"R\"],evidence={\"Ju\": i, \"M\": j})\n",
    "        print(\"J = \"+str(j)+\" \"+\"M = \"+str(i))\n",
    "        print(prob_5)\n"
   ]
  },
  {
   "cell_type": "markdown",
   "metadata": {},
   "source": []
  }
 ],
 "metadata": {
  "kernelspec": {
   "display_name": "Python 3",
   "language": "python",
   "name": "python3"
  },
  "language_info": {
   "codemirror_mode": {
    "name": "ipython",
    "version": 3
   },
   "file_extension": ".py",
   "mimetype": "text/x-python",
   "name": "python",
   "nbconvert_exporter": "python",
   "pygments_lexer": "ipython3",
   "version": "3.8.8 (tags/v3.8.8:024d805, Feb 19 2021, 13:18:16) [MSC v.1928 64 bit (AMD64)]"
  },
  "orig_nbformat": 4,
  "vscode": {
   "interpreter": {
    "hash": "c1b35d58c6c19047a3964e2db1f2b075a73d6837ddc15e21ab53830408837d3d"
   }
  }
 },
 "nbformat": 4,
 "nbformat_minor": 2
}
